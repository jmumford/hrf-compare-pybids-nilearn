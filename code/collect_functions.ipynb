{
 "cells": [
  {
   "cell_type": "code",
   "execution_count": 1,
   "id": "950aa8c2",
   "metadata": {},
   "outputs": [],
   "source": [
    "import importlib\n",
    "import inspect\n",
    "import re\n",
    "from pathlib import Path\n"
   ]
  },
  {
   "cell_type": "markdown",
   "id": "2d6f3482",
   "metadata": {},
   "source": [
    "## I used this code to collect all of the functions that are in `bids.modeling.hrf` into a `pybids_hrf_functions.py` and then I made a parallel `nilearn_hrf_functions.py`.  To unify the formatting, I just ran the files through my Ruff settings and then it was easier to use the file comparison tool on VSCode to spot any differences."
   ]
  },
  {
   "cell_type": "code",
   "execution_count": 2,
   "id": "4cfd81a9",
   "metadata": {},
   "outputs": [],
   "source": [
    "def get_function_source(module_name, function_name):\n",
    "    \"\"\"Import a function from a module and return its cleaned source.\"\"\"\n",
    "    mod = importlib.import_module(module_name)\n",
    "    func = getattr(mod, function_name)\n",
    "\n",
    "    # Get raw source code\n",
    "    source = inspect.getsource(func)\n",
    "\n",
    "    # Remove comments (but keep indentation)\n",
    "    source = re.sub(r'^\\s*#.*', '', source, flags=re.MULTILINE)\n",
    "\n",
    "    # Remove extra blank lines\n",
    "    while '\\n\\n\\n' in source:\n",
    "        source = source.replace('\\n\\n\\n', '\\n\\n')\n",
    "\n",
    "    return source"
   ]
  },
  {
   "cell_type": "code",
   "execution_count": 3,
   "id": "44241225",
   "metadata": {},
   "outputs": [
    {
     "name": "stdout",
     "output_type": "stream",
     "text": [
      "Found 13 functions in bids.modeling.hrf\n"
     ]
    }
   ],
   "source": [
    "# Get all functions defined in bids.modeling.hrf\n",
    "bids_mod = importlib.import_module('bids.modeling.hrf')\n",
    "function_list = [\n",
    "    name\n",
    "    for name, obj in inspect.getmembers(bids_mod, inspect.isfunction)\n",
    "    if inspect.getmodule(obj) == bids_mod\n",
    "]\n",
    "\n",
    "print(f'Found {len(function_list)} functions in bids.modeling.hrf')\n"
   ]
  },
  {
   "cell_type": "code",
   "execution_count": 4,
   "id": "04b9ba0f",
   "metadata": {},
   "outputs": [],
   "source": [
    "src_pybids = get_function_source('bids.modeling.hrf', '_gamma_difference_hrf')\n",
    "src_nilearn = get_function_source(\n",
    "    'nilearn.glm.first_level.hemodynamic_models', '_gamma_difference_hrf'\n",
    ")\n"
   ]
  },
  {
   "cell_type": "code",
   "execution_count": 5,
   "id": "10652f78",
   "metadata": {},
   "outputs": [],
   "source": [
    "# Output files\n",
    "pybids_out = Path('pybids_hrf_functions_new.py')\n",
    "nilearn_out = Path('nilearn_hrf_functions_new.py')\n",
    "pybids_out.write_text('')\n",
    "nilearn_out.write_text('')\n",
    "\n",
    "# Loop over functions and extract from both packages\n",
    "for func_name in function_list:\n",
    "    try:\n",
    "        src_pybids = get_function_source('bids.modeling.hrf', func_name)\n",
    "        pybids_out.write_text(pybids_out.read_text() + '\\n\\n' + src_pybids)\n",
    "    except (AttributeError, OSError):\n",
    "        pass\n",
    "\n",
    "    try:\n",
    "        src_nilearn = get_function_source(\n",
    "            'nilearn.glm.first_level.hemodynamic_models', func_name\n",
    "        )\n",
    "        nilearn_out.write_text(nilearn_out.read_text() + '\\n\\n' + src_nilearn)\n",
    "    except (AttributeError, OSError):\n",
    "        # Function not in nilearn\n",
    "        pass"
   ]
  }
 ],
 "metadata": {
  "kernelspec": {
   "display_name": "hrf-compare-pybids-nilearn",
   "language": "python",
   "name": "python3"
  },
  "language_info": {
   "codemirror_mode": {
    "name": "ipython",
    "version": 3
   },
   "file_extension": ".py",
   "mimetype": "text/x-python",
   "name": "python",
   "nbconvert_exporter": "python",
   "pygments_lexer": "ipython3",
   "version": "3.11.9"
  }
 },
 "nbformat": 4,
 "nbformat_minor": 5
}
