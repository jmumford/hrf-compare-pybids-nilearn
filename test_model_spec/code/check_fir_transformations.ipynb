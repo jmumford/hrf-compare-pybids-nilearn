{
 "cells": [
  {
   "cell_type": "code",
   "execution_count": 1,
   "id": "9d726401",
   "metadata": {},
   "outputs": [],
   "source": [
    "import json\n",
    "from pathlib import Path\n",
    "\n",
    "import matplotlib.pyplot as plt\n",
    "import numpy as np\n",
    "from bids.layout import BIDSLayout\n",
    "from bids.modeling import BIDSStatsModelsGraph\n",
    "from nilearn.plotting import plot_design_matrix"
   ]
  },
  {
   "cell_type": "code",
   "execution_count": 2,
   "id": "dc898714",
   "metadata": {},
   "outputs": [],
   "source": [
    "root = '/Users/jeanettemumford/Dropbox/Research/Projects/hrf_compare_pybids_nilearn/test_model_spec/ds000171'\n",
    "db_path = '/Users/jeanettemumford/Dropbox/Research/Projects/hrf_compare_pybids_nilearn/test_model_spec/ds000171/dbcache'\n",
    "reset_database = True\n",
    "spec_path = '/Users/jeanettemumford/Dropbox/Research/Projects/hrf_compare_pybids_nilearn/test_model_spec/model_spec/fir_model_spec.json'"
   ]
  },
  {
   "cell_type": "code",
   "execution_count": 3,
   "id": "6cba2d87",
   "metadata": {},
   "outputs": [],
   "source": [
    "layout = BIDSLayout(root=root, database_path=db_path, reset_database=reset_database)\n"
   ]
  },
  {
   "cell_type": "code",
   "execution_count": 4,
   "id": "0c3b50c0",
   "metadata": {},
   "outputs": [],
   "source": [
    "spec = json.loads(Path(spec_path).read_text())\n"
   ]
  },
  {
   "cell_type": "code",
   "execution_count": 5,
   "id": "e75f4e5a",
   "metadata": {},
   "outputs": [],
   "source": [
    "graph = BIDSStatsModelsGraph(layout, spec)\n",
    "graph.load_collections(scan_length=105 * 3)"
   ]
  },
  {
   "cell_type": "code",
   "execution_count": 6,
   "id": "f94845a5",
   "metadata": {},
   "outputs": [],
   "source": [
    "root_node = graph.root_node\n",
    "colls = root_node.get_collections()\n",
    "first_sub = colls[0]"
   ]
  },
  {
   "cell_type": "code",
   "execution_count": 7,
   "id": "4487b1cb",
   "metadata": {},
   "outputs": [
    {
     "name": "stdout",
     "output_type": "stream",
     "text": [
      "    duration  onset      trial_type\n",
      "0        3.0   33.0        response\n",
      "1        3.0   67.5        response\n",
      "2        3.0  102.0        response\n",
      "3        3.0  136.5        response\n",
      "4        3.0  171.0        response\n",
      "5        3.0  205.5        response\n",
      "6        3.0  240.0        response\n",
      "7        3.0  274.5        response\n",
      "8        3.0  309.0        response\n",
      "9       31.5   36.0  negative_music\n",
      "10      31.5   70.5           tones\n",
      "11      31.5  105.0  positive_music\n",
      "12      31.5  139.5           tones\n",
      "13      31.5  174.0  negative_music\n",
      "14      31.5  208.5           tones\n",
      "15      31.5  243.0  positive_music\n",
      "16      31.5  277.5           tones\n",
      "17      33.0    0.0           tones\n"
     ]
    }
   ],
   "source": [
    "events_data = first_sub.to_df(entities=False)\n",
    "\n",
    "print(events_data)\n"
   ]
  },
  {
   "cell_type": "code",
   "execution_count": 8,
   "id": "75b489a2",
   "metadata": {},
   "outputs": [
    {
     "data": {
      "text/plain": [
       "{'transformer': 'pybids-transforms-v1',\n",
       " 'instructions': [{'name': 'Factor', 'input': ['trial_type']},\n",
       "  {'name': 'Convolve',\n",
       "   'model': 'fir',\n",
       "   'fir_delays': [0, 3, 6],\n",
       "   'input': ['trial_type.*']}]}"
      ]
     },
     "execution_count": 8,
     "metadata": {},
     "output_type": "execute_result"
    }
   ],
   "source": [
    "graph.model['nodes'][0]['transformations']\n"
   ]
  },
  {
   "cell_type": "code",
   "execution_count": 9,
   "id": "0903ff44",
   "metadata": {},
   "outputs": [],
   "source": [
    "outputs = root_node.run(\n",
    "    group_by=root_node.group_by, force_dense=False, transformation_history=True\n",
    ")"
   ]
  },
  {
   "cell_type": "code",
   "execution_count": 10,
   "id": "a3fc9577",
   "metadata": {},
   "outputs": [
    {
     "data": {
      "text/plain": [
       "[<BIDSStatsModelsNodeOutput(name=run_level, entities={'run': 1, 'subject': 'control01'})>]"
      ]
     },
     "execution_count": 10,
     "metadata": {},
     "output_type": "execute_result"
    }
   ],
   "source": [
    "outputs\n"
   ]
  },
  {
   "cell_type": "code",
   "execution_count": 11,
   "id": "c4b77be9",
   "metadata": {},
   "outputs": [
    {
     "data": {
      "text/plain": [
       "<BIDSStatsModelsNodeOutput(name=run_level, entities={'run': 1, 'subject': 'control01'})>"
      ]
     },
     "execution_count": 11,
     "metadata": {},
     "output_type": "execute_result"
    }
   ],
   "source": [
    "first_output = outputs[0]\n",
    "first_output"
   ]
  },
  {
   "cell_type": "code",
   "execution_count": 12,
   "id": "b18657ce",
   "metadata": {},
   "outputs": [
    {
     "data": {
      "text/html": [
       "<div>\n",
       "<style scoped>\n",
       "    .dataframe tbody tr th:only-of-type {\n",
       "        vertical-align: middle;\n",
       "    }\n",
       "\n",
       "    .dataframe tbody tr th {\n",
       "        vertical-align: top;\n",
       "    }\n",
       "\n",
       "    .dataframe thead th {\n",
       "        text-align: right;\n",
       "    }\n",
       "</style>\n",
       "<table border=\"1\" class=\"dataframe\">\n",
       "  <thead>\n",
       "    <tr style=\"text-align: right;\">\n",
       "      <th></th>\n",
       "      <th>intercept</th>\n",
       "      <th>trial_type.positive_music_0</th>\n",
       "      <th>trial_type.positive_music_3</th>\n",
       "      <th>trial_type.positive_music_6</th>\n",
       "      <th>trial_type.negative_music_0</th>\n",
       "      <th>trial_type.negative_music_3</th>\n",
       "      <th>trial_type.negative_music_6</th>\n",
       "      <th>trial_type.tones_0</th>\n",
       "      <th>trial_type.tones_3</th>\n",
       "      <th>trial_type.tones_6</th>\n",
       "    </tr>\n",
       "  </thead>\n",
       "  <tbody>\n",
       "    <tr>\n",
       "      <th>0</th>\n",
       "      <td>1.0</td>\n",
       "      <td>-2.361369e-16</td>\n",
       "      <td>-1.273191e-16</td>\n",
       "      <td>-2.634604e-17</td>\n",
       "      <td>-5.537850e-07</td>\n",
       "      <td>-2.218010e-08</td>\n",
       "      <td>4.177100e-07</td>\n",
       "      <td>0.999999</td>\n",
       "      <td>5.979157e-07</td>\n",
       "      <td>0.000002</td>\n",
       "    </tr>\n",
       "    <tr>\n",
       "      <th>1</th>\n",
       "      <td>1.0</td>\n",
       "      <td>5.271936e-16</td>\n",
       "      <td>2.320947e-16</td>\n",
       "      <td>-3.165612e-17</td>\n",
       "      <td>8.955737e-07</td>\n",
       "      <td>-4.802374e-07</td>\n",
       "      <td>-1.570830e-06</td>\n",
       "      <td>1.000000</td>\n",
       "      <td>1.143781e+00</td>\n",
       "      <td>1.122154</td>\n",
       "    </tr>\n",
       "    <tr>\n",
       "      <th>2</th>\n",
       "      <td>1.0</td>\n",
       "      <td>-1.112356e-15</td>\n",
       "      <td>-3.239496e-16</td>\n",
       "      <td>3.543453e-16</td>\n",
       "      <td>-8.065018e-07</td>\n",
       "      <td>2.696967e-06</td>\n",
       "      <td>5.342924e-06</td>\n",
       "      <td>1.000003</td>\n",
       "      <td>9.488377e-01</td>\n",
       "      <td>0.955810</td>\n",
       "    </tr>\n",
       "    <tr>\n",
       "      <th>3</th>\n",
       "      <td>1.0</td>\n",
       "      <td>2.139782e-15</td>\n",
       "      <td>6.481437e-17</td>\n",
       "      <td>-1.650234e-15</td>\n",
       "      <td>-2.096990e-06</td>\n",
       "      <td>-1.085939e-05</td>\n",
       "      <td>-1.711089e-05</td>\n",
       "      <td>0.999981</td>\n",
       "      <td>1.018835e+00</td>\n",
       "      <td>1.016184</td>\n",
       "    </tr>\n",
       "    <tr>\n",
       "      <th>4</th>\n",
       "      <td>1.0</td>\n",
       "      <td>-3.424088e-15</td>\n",
       "      <td>1.947993e-15</td>\n",
       "      <td>6.199910e-15</td>\n",
       "      <td>1.676178e-05</td>\n",
       "      <td>3.821699e-05</td>\n",
       "      <td>5.248913e-05</td>\n",
       "      <td>1.000079</td>\n",
       "      <td>9.933965e-01</td>\n",
       "      <td>0.994440</td>\n",
       "    </tr>\n",
       "    <tr>\n",
       "      <th>...</th>\n",
       "      <td>...</td>\n",
       "      <td>...</td>\n",
       "      <td>...</td>\n",
       "      <td>...</td>\n",
       "      <td>...</td>\n",
       "      <td>...</td>\n",
       "      <td>...</td>\n",
       "      <td>...</td>\n",
       "      <td>...</td>\n",
       "      <td>...</td>\n",
       "    </tr>\n",
       "    <tr>\n",
       "      <th>100</th>\n",
       "      <td>1.0</td>\n",
       "      <td>-2.104715e-05</td>\n",
       "      <td>-2.187164e-05</td>\n",
       "      <td>-2.050911e-05</td>\n",
       "      <td>-4.004625e-15</td>\n",
       "      <td>-3.646752e-15</td>\n",
       "      <td>-2.818255e-15</td>\n",
       "      <td>0.973744</td>\n",
       "      <td>9.758585e-01</td>\n",
       "      <td>0.979750</td>\n",
       "    </tr>\n",
       "    <tr>\n",
       "      <th>101</th>\n",
       "      <td>1.0</td>\n",
       "      <td>7.804838e-06</td>\n",
       "      <td>7.784433e-06</td>\n",
       "      <td>6.918493e-06</td>\n",
       "      <td>1.409374e-15</td>\n",
       "      <td>1.209563e-15</td>\n",
       "      <td>8.363021e-16</td>\n",
       "      <td>1.073730</td>\n",
       "      <td>1.066664e+00</td>\n",
       "      <td>1.054651</td>\n",
       "    </tr>\n",
       "    <tr>\n",
       "      <th>102</th>\n",
       "      <td>1.0</td>\n",
       "      <td>-2.834433e-06</td>\n",
       "      <td>-2.689097e-06</td>\n",
       "      <td>-2.222090e-06</td>\n",
       "      <td>-4.798429e-16</td>\n",
       "      <td>-3.789020e-16</td>\n",
       "      <td>-2.154221e-16</td>\n",
       "      <td>0.535398</td>\n",
       "      <td>6.342055e-01</td>\n",
       "      <td>0.727895</td>\n",
       "    </tr>\n",
       "    <tr>\n",
       "      <th>103</th>\n",
       "      <td>1.0</td>\n",
       "      <td>9.650163e-07</td>\n",
       "      <td>8.194701e-07</td>\n",
       "      <td>5.542352e-07</td>\n",
       "      <td>1.410869e-16</td>\n",
       "      <td>8.695574e-17</td>\n",
       "      <td>1.184733e-17</td>\n",
       "      <td>-0.072449</td>\n",
       "      <td>-6.227009e-02</td>\n",
       "      <td>-0.040894</td>\n",
       "    </tr>\n",
       "    <tr>\n",
       "      <th>104</th>\n",
       "      <td>1.0</td>\n",
       "      <td>3.569342e-07</td>\n",
       "      <td>6.970761e-07</td>\n",
       "      <td>1.034665e-06</td>\n",
       "      <td>1.435631e-16</td>\n",
       "      <td>2.045989e-16</td>\n",
       "      <td>2.565844e-16</td>\n",
       "      <td>-0.015040</td>\n",
       "      <td>-3.993704e-02</td>\n",
       "      <td>-0.066118</td>\n",
       "    </tr>\n",
       "  </tbody>\n",
       "</table>\n",
       "<p>105 rows × 10 columns</p>\n",
       "</div>"
      ],
      "text/plain": [
       "     intercept  trial_type.positive_music_0  trial_type.positive_music_3  \\\n",
       "0          1.0                -2.361369e-16                -1.273191e-16   \n",
       "1          1.0                 5.271936e-16                 2.320947e-16   \n",
       "2          1.0                -1.112356e-15                -3.239496e-16   \n",
       "3          1.0                 2.139782e-15                 6.481437e-17   \n",
       "4          1.0                -3.424088e-15                 1.947993e-15   \n",
       "..         ...                          ...                          ...   \n",
       "100        1.0                -2.104715e-05                -2.187164e-05   \n",
       "101        1.0                 7.804838e-06                 7.784433e-06   \n",
       "102        1.0                -2.834433e-06                -2.689097e-06   \n",
       "103        1.0                 9.650163e-07                 8.194701e-07   \n",
       "104        1.0                 3.569342e-07                 6.970761e-07   \n",
       "\n",
       "     trial_type.positive_music_6  trial_type.negative_music_0  \\\n",
       "0                  -2.634604e-17                -5.537850e-07   \n",
       "1                  -3.165612e-17                 8.955737e-07   \n",
       "2                   3.543453e-16                -8.065018e-07   \n",
       "3                  -1.650234e-15                -2.096990e-06   \n",
       "4                   6.199910e-15                 1.676178e-05   \n",
       "..                           ...                          ...   \n",
       "100                -2.050911e-05                -4.004625e-15   \n",
       "101                 6.918493e-06                 1.409374e-15   \n",
       "102                -2.222090e-06                -4.798429e-16   \n",
       "103                 5.542352e-07                 1.410869e-16   \n",
       "104                 1.034665e-06                 1.435631e-16   \n",
       "\n",
       "     trial_type.negative_music_3  trial_type.negative_music_6  \\\n",
       "0                  -2.218010e-08                 4.177100e-07   \n",
       "1                  -4.802374e-07                -1.570830e-06   \n",
       "2                   2.696967e-06                 5.342924e-06   \n",
       "3                  -1.085939e-05                -1.711089e-05   \n",
       "4                   3.821699e-05                 5.248913e-05   \n",
       "..                           ...                          ...   \n",
       "100                -3.646752e-15                -2.818255e-15   \n",
       "101                 1.209563e-15                 8.363021e-16   \n",
       "102                -3.789020e-16                -2.154221e-16   \n",
       "103                 8.695574e-17                 1.184733e-17   \n",
       "104                 2.045989e-16                 2.565844e-16   \n",
       "\n",
       "     trial_type.tones_0  trial_type.tones_3  trial_type.tones_6  \n",
       "0              0.999999        5.979157e-07            0.000002  \n",
       "1              1.000000        1.143781e+00            1.122154  \n",
       "2              1.000003        9.488377e-01            0.955810  \n",
       "3              0.999981        1.018835e+00            1.016184  \n",
       "4              1.000079        9.933965e-01            0.994440  \n",
       "..                  ...                 ...                 ...  \n",
       "100            0.973744        9.758585e-01            0.979750  \n",
       "101            1.073730        1.066664e+00            1.054651  \n",
       "102            0.535398        6.342055e-01            0.727895  \n",
       "103           -0.072449       -6.227009e-02           -0.040894  \n",
       "104           -0.015040       -3.993704e-02           -0.066118  \n",
       "\n",
       "[105 rows x 10 columns]"
      ]
     },
     "execution_count": 12,
     "metadata": {},
     "output_type": "execute_result"
    }
   ],
   "source": [
    "first_output.X\n"
   ]
  },
  {
   "cell_type": "code",
   "execution_count": 13,
   "id": "2839adce",
   "metadata": {},
   "outputs": [
    {
     "data": {
      "text/plain": [
       "<Axes: label='conditions', ylabel='scan number'>"
      ]
     },
     "execution_count": 13,
     "metadata": {},
     "output_type": "execute_result"
    },
    {
     "data": {
      "image/png": "[encoded data removed]",
      "text/plain": [
       "<Figure size 330x1000 with 1 Axes>"
      ]
     },
     "metadata": {},
     "output_type": "display_data"
    }
   ],
   "source": [
    "plot_design_matrix(first_output.X)\n"
   ]
  },
  {
   "cell_type": "code",
   "execution_count": 14,
   "id": "96d78423",
   "metadata": {},
   "outputs": [
    {
     "data": {
      "image/png": "[encoded data removed]",
      "text/plain": [
       "<Figure size 640x480 with 1 Axes>"
      ]
     },
     "metadata": {},
     "output_type": "display_data"
    }
   ],
   "source": [
    "frame_times = np.arange(first_output.X.shape[0]) * 3\n",
    "plt.plot(frame_times, first_output.X['trial_type.tones_0'])\n",
    "plt.title('FIR regressor for tones bin 0')\n",
    "plt.xlabel('Time (s)')\n",
    "plt.show()"
   ]
  },
  {
   "cell_type": "code",
   "execution_count": 15,
   "id": "0238a54a",
   "metadata": {},
   "outputs": [
    {
     "data": {
      "text/html": [
       "<div>\n",
       "<style scoped>\n",
       "    .dataframe tbody tr th:only-of-type {\n",
       "        vertical-align: middle;\n",
       "    }\n",
       "\n",
       "    .dataframe tbody tr th {\n",
       "        vertical-align: top;\n",
       "    }\n",
       "\n",
       "    .dataframe thead th {\n",
       "        text-align: right;\n",
       "    }\n",
       "</style>\n",
       "<table border=\"1\" class=\"dataframe\">\n",
       "  <thead>\n",
       "    <tr style=\"text-align: right;\">\n",
       "      <th></th>\n",
       "      <th>duration</th>\n",
       "      <th>onset</th>\n",
       "      <th>trial_type</th>\n",
       "    </tr>\n",
       "  </thead>\n",
       "  <tbody>\n",
       "    <tr>\n",
       "      <th>17</th>\n",
       "      <td>33.0</td>\n",
       "      <td>0.0</td>\n",
       "      <td>tones</td>\n",
       "    </tr>\n",
       "    <tr>\n",
       "      <th>0</th>\n",
       "      <td>3.0</td>\n",
       "      <td>33.0</td>\n",
       "      <td>response</td>\n",
       "    </tr>\n",
       "    <tr>\n",
       "      <th>9</th>\n",
       "      <td>31.5</td>\n",
       "      <td>36.0</td>\n",
       "      <td>negative_music</td>\n",
       "    </tr>\n",
       "    <tr>\n",
       "      <th>1</th>\n",
       "      <td>3.0</td>\n",
       "      <td>67.5</td>\n",
       "      <td>response</td>\n",
       "    </tr>\n",
       "    <tr>\n",
       "      <th>10</th>\n",
       "      <td>31.5</td>\n",
       "      <td>70.5</td>\n",
       "      <td>tones</td>\n",
       "    </tr>\n",
       "    <tr>\n",
       "      <th>2</th>\n",
       "      <td>3.0</td>\n",
       "      <td>102.0</td>\n",
       "      <td>response</td>\n",
       "    </tr>\n",
       "    <tr>\n",
       "      <th>11</th>\n",
       "      <td>31.5</td>\n",
       "      <td>105.0</td>\n",
       "      <td>positive_music</td>\n",
       "    </tr>\n",
       "    <tr>\n",
       "      <th>3</th>\n",
       "      <td>3.0</td>\n",
       "      <td>136.5</td>\n",
       "      <td>response</td>\n",
       "    </tr>\n",
       "    <tr>\n",
       "      <th>12</th>\n",
       "      <td>31.5</td>\n",
       "      <td>139.5</td>\n",
       "      <td>tones</td>\n",
       "    </tr>\n",
       "    <tr>\n",
       "      <th>4</th>\n",
       "      <td>3.0</td>\n",
       "      <td>171.0</td>\n",
       "      <td>response</td>\n",
       "    </tr>\n",
       "    <tr>\n",
       "      <th>13</th>\n",
       "      <td>31.5</td>\n",
       "      <td>174.0</td>\n",
       "      <td>negative_music</td>\n",
       "    </tr>\n",
       "    <tr>\n",
       "      <th>5</th>\n",
       "      <td>3.0</td>\n",
       "      <td>205.5</td>\n",
       "      <td>response</td>\n",
       "    </tr>\n",
       "    <tr>\n",
       "      <th>14</th>\n",
       "      <td>31.5</td>\n",
       "      <td>208.5</td>\n",
       "      <td>tones</td>\n",
       "    </tr>\n",
       "    <tr>\n",
       "      <th>6</th>\n",
       "      <td>3.0</td>\n",
       "      <td>240.0</td>\n",
       "      <td>response</td>\n",
       "    </tr>\n",
       "    <tr>\n",
       "      <th>15</th>\n",
       "      <td>31.5</td>\n",
       "      <td>243.0</td>\n",
       "      <td>positive_music</td>\n",
       "    </tr>\n",
       "    <tr>\n",
       "      <th>7</th>\n",
       "      <td>3.0</td>\n",
       "      <td>274.5</td>\n",
       "      <td>response</td>\n",
       "    </tr>\n",
       "    <tr>\n",
       "      <th>16</th>\n",
       "      <td>31.5</td>\n",
       "      <td>277.5</td>\n",
       "      <td>tones</td>\n",
       "    </tr>\n",
       "    <tr>\n",
       "      <th>8</th>\n",
       "      <td>3.0</td>\n",
       "      <td>309.0</td>\n",
       "      <td>response</td>\n",
       "    </tr>\n",
       "  </tbody>\n",
       "</table>\n",
       "</div>"
      ],
      "text/plain": [
       "    duration  onset      trial_type\n",
       "17      33.0    0.0           tones\n",
       "0        3.0   33.0        response\n",
       "9       31.5   36.0  negative_music\n",
       "1        3.0   67.5        response\n",
       "10      31.5   70.5           tones\n",
       "2        3.0  102.0        response\n",
       "11      31.5  105.0  positive_music\n",
       "3        3.0  136.5        response\n",
       "12      31.5  139.5           tones\n",
       "4        3.0  171.0        response\n",
       "13      31.5  174.0  negative_music\n",
       "5        3.0  205.5        response\n",
       "14      31.5  208.5           tones\n",
       "6        3.0  240.0        response\n",
       "15      31.5  243.0  positive_music\n",
       "7        3.0  274.5        response\n",
       "16      31.5  277.5           tones\n",
       "8        3.0  309.0        response"
      ]
     },
     "execution_count": 15,
     "metadata": {},
     "output_type": "execute_result"
    }
   ],
   "source": [
    "events_data_sorted = events_data.sort_values(by='onset')\n",
    "events_data_sorted"
   ]
  },
  {
   "cell_type": "markdown",
   "id": "b83ce954",
   "metadata": {},
   "source": [
    "# Processing debugging output\n",
    "I'm looking at the convolve output prior to running `DenseRunVariables`\n",
    "\n",
    "This is for trial_type.negative_music"
   ]
  },
  {
   "cell_type": "code",
   "execution_count": 16,
   "id": "fa93b335",
   "metadata": {},
   "outputs": [
    {
     "name": "stdout",
     "output_type": "stream",
     "text": [
      "(array([[0., 0., 0.],\n",
      "       [0., 0., 0.],\n",
      "       [0., 0., 0.],\n",
      "       ...,\n",
      "       [0., 0., 0.],\n",
      "       [0., 0., 0.],\n",
      "       [0., 0., 0.]], shape=(3150, 3)), ['cond_delay_0', 'cond_delay_3', 'cond_delay_6'])\n"
     ]
    }
   ],
   "source": [
    "import pickle\n",
    "\n",
    "with open('fir_tuple.pkl', 'rb') as f:\n",
    "    mytuple = pickle.load(f)\n",
    "\n",
    "print(mytuple)"
   ]
  },
  {
   "cell_type": "code",
   "execution_count": 17,
   "id": "5803084a",
   "metadata": {},
   "outputs": [
    {
     "data": {
      "text/plain": [
       "(3150, 3)"
      ]
     },
     "execution_count": 17,
     "metadata": {},
     "output_type": "execute_result"
    }
   ],
   "source": [
    "reg_array, names = mytuple\n",
    "\n",
    "reg_array.shape"
   ]
  },
  {
   "cell_type": "markdown",
   "id": "08296c57",
   "metadata": {},
   "source": [
    "## Side note about oversampling\n",
    "If I checked this correctly, `hrf.compute_regressor` is using a much, much lower value for oversampling.  Using 1 instead of 50 seems like an unusual choice."
   ]
  },
  {
   "cell_type": "code",
   "execution_count": 18,
   "id": "d74c9a53",
   "metadata": {},
   "outputs": [
    {
     "name": "stdout",
     "output_type": "stream",
     "text": [
      "Oversampling is set to 1, which seems really low (default is 50)\n"
     ]
    },
    {
     "data": {
      "image/png": "[encoded data removed]",
      "text/plain": [
       "<Figure size 640x480 with 1 Axes>"
      ]
     },
     "metadata": {},
     "output_type": "display_data"
    }
   ],
   "source": [
    "# Values from debugger and oversampling calculation is from the Convolve class\n",
    "effective_sr = 1.3333\n",
    "sampling_rate = 10\n",
    "oversampling = int(np.ceil(effective_sr / sampling_rate))\n",
    "print(\n",
    "    f'Oversampling is set to {oversampling}, which seems really low (default is 50)'\n",
    ")  # Weird that the oversampling is 1\n",
    "\n",
    "# I verified these frame times are correct in the debugger\n",
    "frame_times_dense = np.arange(reg_array.shape[0]) / 10\n",
    "plt.plot(\n",
    "    frame_times_dense,\n",
    "    reg_array[:, 0],\n",
    "    label='Convolve output prior to DenseRunVariables',\n",
    ")\n",
    "plt.plot(\n",
    "    frame_times,\n",
    "    first_output.X['trial_type.negative_music_0'],\n",
    "    label='final regressor after code completes',\n",
    ")\n",
    "plt.legend()\n",
    "plt.show()"
   ]
  }
 ],
 "metadata": {
  "kernelspec": {
   "display_name": "hrf-compare-pybids-nilearn",
   "language": "python",
   "name": "python3"
  },
  "language_info": {
   "codemirror_mode": {
    "name": "ipython",
    "version": 3
   },
   "file_extension": ".py",
   "mimetype": "text/x-python",
   "name": "python",
   "nbconvert_exporter": "python",
   "pygments_lexer": "ipython3",
   "version": "3.11.9"
  }
 },
 "nbformat": 4,
 "nbformat_minor": 5
}
